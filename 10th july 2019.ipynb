{
 "cells": [
  {
   "cell_type": "code",
   "execution_count": 9,
   "metadata": {},
   "outputs": [
    {
     "name": "stdout",
     "output_type": "stream",
     "text": [
      "{'name': 'gitam'}\n",
      "{'name': 'gitam', 'email': 'rohith@123', 'address': 'hyderabad'}\n",
      "{'email': 'rohith@123', 'address': 'hyderabad'}\n"
     ]
    }
   ],
   "source": [
    "d1 ={\"name\":\"gitam\"}\n",
    "print(d1)\n",
    "d2 ={\"name\":\"gitam\",\"email\":\"rohith@123\",\"address\":\"hyderabad\"}\n",
    "print(d2)\n",
    "del d2[\"name\"]\n",
    "print(d2)"
   ]
  },
  {
   "cell_type": "code",
   "execution_count": 10,
   "metadata": {},
   "outputs": [
    {
     "name": "stdout",
     "output_type": "stream",
     "text": [
      "{'name': 'gitam', 'email': 'rohith@k143', 'address': 'hyderabad'}\n"
     ]
    }
   ],
   "source": [
    "d2 ={\"name\":\"gitam\",\"email\":\"rohith@123\",\"address\":\"hyderabad\"}\n",
    "d2[\"email\"]=\"rohith@k143\"\n",
    "print(d2)"
   ]
  },
  {
   "cell_type": "code",
   "execution_count": 12,
   "metadata": {},
   "outputs": [
    {
     "data": {
      "text/plain": [
       "dict_keys(['name', 'email', 'address'])"
      ]
     },
     "execution_count": 12,
     "metadata": {},
     "output_type": "execute_result"
    }
   ],
   "source": [
    "d2 ={\"name\":\"gitam\",\"email\":\"rohith@123\",\"address\":\"hyderabad\"}\n",
    "\n",
    "d2.keys()\n",
    "\n",
    "\n",
    "\n"
   ]
  },
  {
   "cell_type": "code",
   "execution_count": 14,
   "metadata": {},
   "outputs": [
    {
     "data": {
      "text/plain": [
       "dict_items([('name', 'gitam'), ('email', 'rohith@123'), ('address', 'hyderabad')])"
      ]
     },
     "execution_count": 14,
     "metadata": {},
     "output_type": "execute_result"
    }
   ],
   "source": [
    "d2.items()"
   ]
  },
  {
   "cell_type": "code",
   "execution_count": 15,
   "metadata": {},
   "outputs": [
    {
     "data": {
      "text/plain": [
       "dict_values(['gitam', 'rohith@123', 'hyderabad'])"
      ]
     },
     "execution_count": 15,
     "metadata": {},
     "output_type": "execute_result"
    }
   ],
   "source": [
    "d2.values()"
   ]
  },
  {
   "cell_type": "code",
   "execution_count": 21,
   "metadata": {
    "scrolled": true
   },
   "outputs": [
    {
     "name": "stdout",
     "output_type": "stream",
     "text": [
      "contact details are added\n",
      "contact details alredy exists\n",
      "contact details are added\n",
      "{'rohit': 7981298673, 'kiran': 7799744433}\n"
     ]
    }
   ],
   "source": [
    "# add contact\n",
    "contacts ={}\n",
    "def addcnt(name,cnt):\n",
    "    if name not in contacts:\n",
    "        contacts[name]=cnt\n",
    "        print(\"contact details are added\")\n",
    "    else:\n",
    "        print(\"contact details alredy exists\")\n",
    "    return\n",
    "addcnt('rohit',7981298673)\n",
    "addcnt('rohit',7981298673)\n",
    "addcnt('kiran',7799744433)\n",
    "print(contacts)"
   ]
  },
  {
   "cell_type": "code",
   "execution_count": 24,
   "metadata": {},
   "outputs": [
    {
     "name": "stdout",
     "output_type": "stream",
     "text": [
      "rohit : 7981298673\n"
     ]
    }
   ],
   "source": [
    "def search(name):\n",
    "    if name in contacts:\n",
    "        print(name,\":\",contacts[name])\n",
    "    else:\n",
    "        print(\"%s name not found\"% name)\n",
    "    return\n",
    "search('rohit')"
   ]
  },
  {
   "cell_type": "code",
   "execution_count": 26,
   "metadata": {},
   "outputs": [
    {
     "name": "stdout",
     "output_type": "stream",
     "text": [
      "2 contacts added successfully\n"
     ]
    }
   ],
   "source": [
    "def importc(newcnt):\n",
    "    contacts.update(newcnt)\n",
    "    print(len(newcnt.keys()),\"contacts added successfully\")\n",
    "    return\n",
    "\n",
    "newcnt={\"rohith\":5486651468465,\"roh\":34546878455}\n",
    "importc(newcnt)"
   ]
  },
  {
   "cell_type": "code",
   "execution_count": 28,
   "metadata": {},
   "outputs": [
    {
     "data": {
      "text/plain": [
       "{'rohit': 7981298673,\n",
       " 'kiran': 7799744433,\n",
       " 'rohith': 5486651468465,\n",
       " 'roh': 34546878455}"
      ]
     },
     "execution_count": 28,
     "metadata": {},
     "output_type": "execute_result"
    }
   ],
   "source": [
    "contacts"
   ]
  },
  {
   "cell_type": "code",
   "execution_count": 31,
   "metadata": {},
   "outputs": [
    {
     "name": "stdout",
     "output_type": "stream",
     "text": [
      "roh   deleated successfully\n"
     ]
    }
   ],
   "source": [
    "def deletecnt(name):\n",
    "    if name in contacts:\n",
    "        del contacts[name]\n",
    "        print(name ,\"  deleated successfully\")\n",
    "    else:\n",
    "        print(\"name doesnt exists\")\n",
    "    return\n",
    "deletecnt(\"roh\")"
   ]
  },
  {
   "cell_type": "code",
   "execution_count": 30,
   "metadata": {},
   "outputs": [
    {
     "data": {
      "text/plain": [
       "{'rohit': 7981298673, 'rohith': 5486651468465, 'roh': 34546878455}"
      ]
     },
     "execution_count": 30,
     "metadata": {},
     "output_type": "execute_result"
    }
   ],
   "source": [
    "contacts"
   ]
  },
  {
   "cell_type": "code",
   "execution_count": 33,
   "metadata": {},
   "outputs": [
    {
     "name": "stdout",
     "output_type": "stream",
     "text": [
      "rohit updated successfully\n"
     ]
    }
   ],
   "source": [
    "#update contacts\n",
    "def updatec(name,cnt):\n",
    "    if name in contacts:\n",
    "        contacts[name] =cnt\n",
    "        print(name,\"updated successfully\")\n",
    "    else:\n",
    "        print(name,\"not exists\")\n",
    "    return\n",
    "updatec(\"rohit\",7799744433)"
   ]
  },
  {
   "cell_type": "code",
   "execution_count": 34,
   "metadata": {},
   "outputs": [
    {
     "data": {
      "text/plain": [
       "{'rohit': 7799744433, 'rohith': 5486651468465}"
      ]
     },
     "execution_count": 34,
     "metadata": {},
     "output_type": "execute_result"
    }
   ],
   "source": [
    "contacts"
   ]
  },
  {
   "cell_type": "code",
   "execution_count": 36,
   "metadata": {},
   "outputs": [
    {
     "name": "stdout",
     "output_type": "stream",
     "text": [
      "python  programming\n"
     ]
    }
   ],
   "source": [
    "li=[\"python\",\"programming\"]\n",
    "print(\"%s  %s\" % (li[0],li[1]))"
   ]
  },
  {
   "cell_type": "code",
   "execution_count": 38,
   "metadata": {},
   "outputs": [
    {
     "name": "stdout",
     "output_type": "stream",
     "text": [
      "1 2 3 4\n"
     ]
    }
   ],
   "source": [
    "li1=[1,2,3,4]\n",
    "print(\"%d %d %d %d\" % (li1[0],li1[1],li1[2],li1[3]))"
   ]
  },
  {
   "cell_type": "markdown",
   "metadata": {},
   "source": [
    "upper()-given string to uppercase\n",
    "lower()-given string to lowercase\n"
   ]
  },
  {
   "cell_type": "code",
   "execution_count": 44,
   "metadata": {},
   "outputs": [
    {
     "name": "stdout",
     "output_type": "stream",
     "text": [
      "GITAM\n",
      "False\n",
      "True\n",
      "True\n",
      "False\n",
      "gitam\n"
     ]
    }
   ],
   "source": [
    "s1='gitam'\n",
    "print(s1.upper())\n",
    "print(s1.isupper())\n",
    "print(s1.islower())\n",
    "s2='GITAM'\n",
    "print(s2.isupper())\n",
    "print(s2.islower())\n",
    "print(s2.lower())"
   ]
  },
  {
   "cell_type": "code",
   "execution_count": 45,
   "metadata": {},
   "outputs": [
    {
     "name": "stdout",
     "output_type": "stream",
     "text": [
      "True\n",
      "False\n"
     ]
    }
   ],
   "source": [
    "s1=\"Python Programming\"\n",
    "s2=\"Python programming\"\n",
    "print(s1.istitle())\n",
    "print(s2.istitle())"
   ]
  },
  {
   "cell_type": "code",
   "execution_count": 47,
   "metadata": {},
   "outputs": [
    {
     "name": "stdout",
     "output_type": "stream",
     "text": [
      "True\n",
      "False\n"
     ]
    }
   ],
   "source": [
    "s1=\"PythonProgramming\"\n",
    "s2=\"Python progr4756amming\"\n",
    "print(s1.isalpha())\n",
    "print(s2.isalpha())"
   ]
  },
  {
   "cell_type": "code",
   "execution_count": 49,
   "metadata": {},
   "outputs": [
    {
     "name": "stdout",
     "output_type": "stream",
     "text": [
      "False\n",
      "True\n",
      "False\n"
     ]
    }
   ],
   "source": [
    "s1=\"PythonProgramming\"\n",
    "s2=\"9866260113\"\n",
    "s3=\"PythonProgramming544854\"\n",
    "print(s1.isnumeric())\n",
    "print(s2.isnumeric())\n",
    "print(s3.isnumeric())"
   ]
  },
  {
   "cell_type": "code",
   "execution_count": 51,
   "metadata": {},
   "outputs": [
    {
     "name": "stdout",
     "output_type": "stream",
     "text": [
      "True\n",
      "False\n"
     ]
    }
   ],
   "source": [
    "s1=\" \"\n",
    "s2=\"Python programming\"\n",
    "print(s1.isspace())\n",
    "print(s2.isspace())"
   ]
  },
  {
   "cell_type": "code",
   "execution_count": 53,
   "metadata": {},
   "outputs": [
    {
     "name": "stdout",
     "output_type": "stream",
     "text": [
      "payatahaoan\n"
     ]
    }
   ],
   "source": [
    "s1=\"python\"\n",
    "print(\"a\".join(s1))"
   ]
  },
  {
   "cell_type": "code",
   "execution_count": 55,
   "metadata": {},
   "outputs": [
    {
     "name": "stdout",
     "output_type": "stream",
     "text": [
      "python,programming\n"
     ]
    }
   ],
   "source": [
    "li=[\"python\",\"programming\"]\n",
    "print(\",\".join(li))"
   ]
  },
  {
   "cell_type": "code",
   "execution_count": 60,
   "metadata": {},
   "outputs": [
    {
     "name": "stdout",
     "output_type": "stream",
     "text": [
      "['python progr', 'mming m', 'de es', 'y']\n"
     ]
    }
   ],
   "source": [
    "s1=\"python programming made esay\"\n",
    "li=s1.split('a')\n",
    "print(li)"
   ]
  },
  {
   "cell_type": "code",
   "execution_count": 61,
   "metadata": {},
   "outputs": [
    {
     "name": "stdout",
     "output_type": "stream",
     "text": [
      "['python', 'programming', 'made', 'esay']\n",
      "4\n"
     ]
    }
   ],
   "source": [
    "s1=\"python programming made esay\"\n",
    "li=s1.split()\n",
    "print(li)\n",
    "print(len(li))"
   ]
  },
  {
   "cell_type": "code",
   "execution_count": 63,
   "metadata": {},
   "outputs": [
    {
     "name": "stdout",
     "output_type": "stream",
     "text": [
      "['p', 'y', 't', 'h', 'o', 'n', ' ', 'p', 'r', 'o', 'g', 'r', 'a', 'm', 'm', 'i', 'n', 'g', ' ', 'm', 'a', 'd', 'e', ' ', 'e', 's', 'a', 'y']\n"
     ]
    }
   ],
   "source": [
    "s1=\"python programming made esay\"\n",
    "li=list(s1)\n",
    "print(li)"
   ]
  },
  {
   "cell_type": "code",
   "execution_count": 72,
   "metadata": {},
   "outputs": [
    {
     "name": "stdout",
     "output_type": "stream",
     "text": [
      "python prodifficultmming made esay\n"
     ]
    }
   ],
   "source": [
    "s1=\"python programming made esay\"\n",
    "li=s1.replace(\"gra\",\"difficult\")\n",
    "print(li)"
   ]
  },
  {
   "cell_type": "code",
   "execution_count": 73,
   "metadata": {},
   "outputs": [
    {
     "data": {
      "text/plain": [
       "123"
      ]
     },
     "execution_count": 73,
     "metadata": {},
     "output_type": "execute_result"
    }
   ],
   "source": [
    "import math\n",
    "math.floor(123.5)\n"
   ]
  },
  {
   "cell_type": "code",
   "execution_count": 77,
   "metadata": {},
   "outputs": [
    {
     "name": "stdout",
     "output_type": "stream",
     "text": [
      "35\n",
      "81\n",
      "85\n",
      "56\n"
     ]
    }
   ],
   "source": [
    "import random\n",
    "def randomnu(n,l,u):\n",
    "    for i in range(1,n):\n",
    "        print(random.randint(l,u))\n",
    "    return\n",
    "randomnu(5,0,100)"
   ]
  },
  {
   "cell_type": "code",
   "execution_count": 88,
   "metadata": {},
   "outputs": [
    {
     "name": "stdout",
     "output_type": "stream",
     "text": [
      "you won\n"
     ]
    }
   ],
   "source": [
    "##game\n",
    "import random\n",
    "li=[]\n",
    "def randomnu(n,l,u,k):\n",
    "    for i in range(1,n):\n",
    "        li.append(random.randint(l,u))\n",
    "    if n in li:\n",
    "        print(\"you won\")\n",
    "    else:\n",
    "        print(\"you lose\")\n",
    "    return\n",
    "k=145\n",
    "randomnu(20,0,200,k)"
   ]
  },
  {
   "cell_type": "code",
   "execution_count": null,
   "metadata": {},
   "outputs": [],
   "source": []
  }
 ],
 "metadata": {
  "kernelspec": {
   "display_name": "Python 3",
   "language": "python",
   "name": "python3"
  },
  "language_info": {
   "codemirror_mode": {
    "name": "ipython",
    "version": 3
   },
   "file_extension": ".py",
   "mimetype": "text/x-python",
   "name": "python",
   "nbconvert_exporter": "python",
   "pygments_lexer": "ipython3",
   "version": "3.7.3"
  }
 },
 "nbformat": 4,
 "nbformat_minor": 2
}
