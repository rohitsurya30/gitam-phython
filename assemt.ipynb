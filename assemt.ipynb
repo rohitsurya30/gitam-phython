{
 "cells": [
  {
   "cell_type": "markdown",
   "metadata": {},
   "source": [
    "##consider only even numbers"
   ]
  },
  {
   "cell_type": "code",
   "execution_count": 4,
   "metadata": {},
   "outputs": [
    {
     "name": "stdout",
     "output_type": "stream",
     "text": [
      "2\n",
      "4\n",
      "6\n"
     ]
    }
   ],
   "source": [
    "def even(li):\n",
    "    for i in range(len(li)):\n",
    "        if li[i]%2==0:\n",
    "            print(li[i])\n",
    "    return\n",
    "li=[1,2,3,4,5,6]\n",
    "even(li)"
   ]
  },
  {
   "cell_type": "code",
   "execution_count": 5,
   "metadata": {},
   "outputs": [
    {
     "name": "stdout",
     "output_type": "stream",
     "text": [
      "[1, 4, 3, 16, 5, 36]\n"
     ]
    }
   ],
   "source": [
    "def evensq(li):\n",
    "    for i in range(len(li)):\n",
    "        if li[i]%2==0:\n",
    "            li[i]=li[i]**2\n",
    "    print(li)\n",
    "    return\n",
    "li=[1,2,3,4,5,6]\n",
    "evensq(li)"
   ]
  },
  {
   "cell_type": "code",
   "execution_count": 9,
   "metadata": {},
   "outputs": [
    {
     "name": "stdout",
     "output_type": "stream",
     "text": [
      "[1, 3, 6, 10, 15, 6]\n"
     ]
    }
   ],
   "source": [
    "def prec(li):\n",
    "    for i in range(1,len(li)-1):\n",
    "        li[i]=li[i]+li[i-1]\n",
    "    print(li)\n",
    "    return\n",
    "li=[1,2,3,4,5,6]\n",
    "prec(li)\n"
   ]
  },
  {
   "cell_type": "code",
   "execution_count": null,
   "metadata": {},
   "outputs": [],
   "source": []
  }
 ],
 "metadata": {
  "kernelspec": {
   "display_name": "Python 3",
   "language": "python",
   "name": "python3"
  },
  "language_info": {
   "codemirror_mode": {
    "name": "ipython",
    "version": 3
   },
   "file_extension": ".py",
   "mimetype": "text/x-python",
   "name": "python",
   "nbconvert_exporter": "python",
   "pygments_lexer": "ipython3",
   "version": "3.7.3"
  }
 },
 "nbformat": 4,
 "nbformat_minor": 2
}
