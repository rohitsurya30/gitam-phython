{
 "cells": [
  {
   "cell_type": "code",
   "execution_count": 5,
   "metadata": {},
   "outputs": [
    {
     "name": "stdout",
     "output_type": "stream",
     "text": [
      "True\n",
      "False\n"
     ]
    }
   ],
   "source": [
    "import re\n",
    "def twodigitmatch(n):\n",
    "    pattern='^[0-9]{2}$'\n",
    "    n=str(n)\n",
    "    if re.match(pattern,n):\n",
    "        return True\n",
    "    return False\n",
    "\n",
    "print(twodigitmatch(12))\n",
    "print(twodigitmatch(123))"
   ]
  },
  {
   "cell_type": "code",
   "execution_count": 11,
   "metadata": {},
   "outputs": [
    {
     "name": "stdout",
     "output_type": "stream",
     "text": [
      "True\n",
      "False\n"
     ]
    }
   ],
   "source": [
    "import re\n",
    "def stringmatch(n):\n",
    "    pattern='^[A-Za-z]{8}$'\n",
    "    if re.match(pattern,n):\n",
    "        return True\n",
    "    return False\n",
    "print(stringmatch('rohithki'))\n",
    "print(stringmatch('rohith123'))"
   ]
  },
  {
   "cell_type": "code",
   "execution_count": 14,
   "metadata": {},
   "outputs": [
    {
     "name": "stdout",
     "output_type": "stream",
     "text": [
      "True\n",
      "True\n"
     ]
    }
   ],
   "source": [
    "import re\n",
    "def stringmatch(n):\n",
    "    pattern='^[A-Za-z0-9]{8}$'\n",
    "    if re.match(pattern,n):\n",
    "        return True\n",
    "    return False\n",
    "print(stringmatch('rohithki'))\n",
    "print(stringmatch('Rohith23'))"
   ]
  },
  {
   "cell_type": "code",
   "execution_count": 16,
   "metadata": {},
   "outputs": [
    {
     "name": "stdout",
     "output_type": "stream",
     "text": [
      "INDIAN number\n",
      "*******\n"
     ]
    }
   ],
   "source": [
    "import re\n",
    "def phone(n):\n",
    "    pattern='^[6-9][0-9]{9}$'\n",
    "    n=str(n)\n",
    "    if re.match(pattern,n):\n",
    "        print(\"INDIAN number\")\n",
    "    else:\n",
    "        print(\"*******\")\n",
    "    return\n",
    "\n",
    "phone(7981298673)\n",
    "phone(2211586893)"
   ]
  },
  {
   "cell_type": "code",
   "execution_count": 18,
   "metadata": {},
   "outputs": [
    {
     "name": "stdout",
     "output_type": "stream",
     "text": [
      "1521A0501\n",
      "*******\n"
     ]
    }
   ],
   "source": [
    "import re\n",
    "def rollnumber(n):\n",
    "    pattern='^[1][5][2][1][A][0][0-9]{3}$'\n",
    "    n=str(n)\n",
    "    if re.match(pattern,n):\n",
    "        print(n)\n",
    "    else:\n",
    "        print(\"*******\")\n",
    "    return\n",
    "\n",
    "rollnumber('1521A0501')\n",
    "rollnumber('1251AA002')\n",
    "\n"
   ]
  },
  {
   "cell_type": "code",
   "execution_count": 30,
   "metadata": {},
   "outputs": [
    {
     "name": "stdout",
     "output_type": "stream",
     "text": [
      "password accepted\n",
      "*******\n"
     ]
    }
   ],
   "source": [
    "import re\n",
    "def password(n):\n",
    "    pattern='^[a-zA-z0-9@#!]{6,15}$'\n",
    "    n=str(n)\n",
    "    if re.match(pattern,n):\n",
    "        print(\"password accepted\")\n",
    "    else:\n",
    "        print(\"*******\")\n",
    "    return\n",
    "password('rhr4@123')\n",
    "password('*&^&&*()')\n"
   ]
  },
  {
   "cell_type": "code",
   "execution_count": 40,
   "metadata": {},
   "outputs": [
    {
     "name": "stdout",
     "output_type": "stream",
     "text": [
      "*******\n",
      "*******\n"
     ]
    }
   ],
   "source": [
    "def email(n):\n",
    "    pattern='^[0-9a-z][0-9a-z_.]{5,14}[@][a-z0-9]{3,18}[.][a-z]{2,4}$' \n",
    "\n",
    "    if re.match(pattern,n):\n",
    "        print(\"email accepted\")\n",
    "    else:\n",
    "        print(\"*******\")\n",
    "    return\n",
    "password('rohithmsv@gmail.com')\n",
    "password('hhfiiruu8846736$665m')\n"
   ]
  },
  {
   "cell_type": "code",
   "execution_count": 41,
   "metadata": {},
   "outputs": [
    {
     "data": {
      "text/plain": [
       "<function turtle.mainloop()>"
      ]
     },
     "execution_count": 41,
     "metadata": {},
     "output_type": "execute_result"
    }
   ],
   "source": [
    "import turtle\n",
    "a1= turtle.Turtle()\n",
    "turtle.forward(250)\n",
    "turtle.done()"
   ]
  },
  {
   "cell_type": "code",
   "execution_count": 43,
   "metadata": {},
   "outputs": [],
   "source": [
    "import turtle as tt\n",
    "a1=tt.Turtle()\n",
    "tt.backward(100)\n",
    "tt.done()"
   ]
  },
  {
   "cell_type": "code",
   "execution_count": 46,
   "metadata": {},
   "outputs": [],
   "source": [
    "from turtle import*\n",
    "colors=['blue','green','black','orange','purple','red']\n",
    "for x in range(360):\n",
    "    pencolor(colors[x%6])\n",
    "    width(x/200+1)\n",
    "    forward(x)\n",
    "    left(59)"
   ]
  },
  {
   "cell_type": "code",
   "execution_count": 2,
   "metadata": {},
   "outputs": [],
   "source": [
    "\n",
    "from turtle import *\n",
    "colours =['blue','red','purple','orange','green','yellow' ]\n",
    "for angle in range(0,360,15):\n",
    "    pencolor(colours[angle%6])\n",
    "    setheading(angle)\n",
    "    forward(100)\n",
    "    write(str(angle)+ 'o')\n",
    "    backward(100)\n",
    "\n"
   ]
  },
  {
   "cell_type": "code",
   "execution_count": null,
   "metadata": {},
   "outputs": [],
   "source": []
  }
 ],
 "metadata": {
  "kernelspec": {
   "display_name": "Python 3",
   "language": "python",
   "name": "python3"
  },
  "language_info": {
   "codemirror_mode": {
    "name": "ipython",
    "version": 3
   },
   "file_extension": ".py",
   "mimetype": "text/x-python",
   "name": "python",
   "nbconvert_exporter": "python",
   "pygments_lexer": "ipython3",
   "version": "3.7.3"
  }
 },
 "nbformat": 4,
 "nbformat_minor": 2
}
