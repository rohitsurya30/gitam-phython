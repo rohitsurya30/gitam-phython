{
 "cells": [
  {
   "cell_type": "code",
   "execution_count": 19,
   "metadata": {},
   "outputs": [
    {
     "name": "stdout",
     "output_type": "stream",
     "text": [
      "3 2 1 1 0 "
     ]
    }
   ],
   "source": [
    "def reverseFibonacci(n): \n",
    "    a = [0] * n  \n",
    "    a[0] = 0 \n",
    "    a[1] = 1\n",
    "    for i in range(2, n):   \n",
    "     \n",
    "       a[i] = a[i - 2] + a[i - 1]  \n",
    "    for i in range(n - 1, -1 , -1):   \n",
    "        print(a[i],end=\" \")  \n",
    "      \n",
    "\n",
    "reverseFibonacci(5)"
   ]
  },
  {
   "cell_type": "code",
   "execution_count": 15,
   "metadata": {},
   "outputs": [
    {
     "name": "stdout",
     "output_type": "stream",
     "text": [
      "1\n",
      "3\n",
      "9\n",
      "27\n",
      "81\n",
      "243\n",
      "729\n",
      "2187\n",
      "6561\n",
      "19683\n"
     ]
    }
   ],
   "source": [
    "def threepow(n):\n",
    "    for i in range(n):\n",
    "        k=3**i\n",
    "        print(k)\n",
    "    return\n",
    "threepow(10)"
   ]
  },
  {
   "cell_type": "code",
   "execution_count": 16,
   "metadata": {},
   "outputs": [
    {
     "name": "stdout",
     "output_type": "stream",
     "text": [
      "1\n",
      "2\n",
      "4\n",
      "8\n",
      "16\n",
      "32\n",
      "64\n",
      "128\n",
      "256\n",
      "512\n"
     ]
    }
   ],
   "source": [
    "def twoepow(n):\n",
    "    for i in range(n):\n",
    "        k=2**i\n",
    "        print(k)\n",
    "    return\n",
    "twopow(10)"
   ]
  },
  {
   "cell_type": "code",
   "execution_count": 18,
   "metadata": {},
   "outputs": [
    {
     "name": "stdout",
     "output_type": "stream",
     "text": [
      "enter a stringbad\n",
      "enter a stringwater\n",
      "b w\n",
      "a a\n",
      "d t\n"
     ]
    },
    {
     "ename": "IndexError",
     "evalue": "string index out of range",
     "output_type": "error",
     "traceback": [
      "\u001b[1;31m---------------------------------------------------------------------------\u001b[0m",
      "\u001b[1;31mIndexError\u001b[0m                                Traceback (most recent call last)",
      "\u001b[1;32m<ipython-input-18-90675397e675>\u001b[0m in \u001b[0;36m<module>\u001b[1;34m\u001b[0m\n\u001b[0;32m     12\u001b[0m \u001b[1;32melse\u001b[0m\u001b[1;33m:\u001b[0m\u001b[1;33m\u001b[0m\u001b[1;33m\u001b[0m\u001b[0m\n\u001b[0;32m     13\u001b[0m     \u001b[1;32mfor\u001b[0m \u001b[0mi\u001b[0m \u001b[1;32min\u001b[0m \u001b[0mrange\u001b[0m\u001b[1;33m(\u001b[0m\u001b[0mlen\u001b[0m\u001b[1;33m(\u001b[0m\u001b[0ms2\u001b[0m\u001b[1;33m)\u001b[0m\u001b[1;33m)\u001b[0m\u001b[1;33m:\u001b[0m\u001b[1;33m\u001b[0m\u001b[1;33m\u001b[0m\u001b[0m\n\u001b[1;32m---> 14\u001b[1;33m         \u001b[1;32mif\u001b[0m \u001b[0ms1\u001b[0m\u001b[1;33m[\u001b[0m\u001b[0mi\u001b[0m\u001b[1;33m]\u001b[0m\u001b[1;33m==\u001b[0m\u001b[1;34m\" \"\u001b[0m\u001b[1;33m:\u001b[0m\u001b[1;33m\u001b[0m\u001b[1;33m\u001b[0m\u001b[0m\n\u001b[0m\u001b[0;32m     15\u001b[0m             \u001b[0mprint\u001b[0m\u001b[1;33m(\u001b[0m\u001b[1;34m\"*\"\u001b[0m\u001b[1;33m,\u001b[0m\u001b[0ms2\u001b[0m\u001b[1;33m[\u001b[0m\u001b[0mi\u001b[0m\u001b[1;33m]\u001b[0m\u001b[1;33m)\u001b[0m\u001b[1;33m\u001b[0m\u001b[1;33m\u001b[0m\u001b[0m\n\u001b[0;32m     16\u001b[0m         \u001b[1;32melse\u001b[0m\u001b[1;33m:\u001b[0m\u001b[1;33m\u001b[0m\u001b[1;33m\u001b[0m\u001b[0m\n",
      "\u001b[1;31mIndexError\u001b[0m: string index out of range"
     ]
    }
   ],
   "source": [
    "s1=input(\"enter a string\")\n",
    "s2=input(\"enter a string\")\n",
    "if len(s1)>len(s2):\n",
    "    for i in range(len(s1)):\n",
    "        if s2[i]==\" \":\n",
    "            print(s1[i],\"*\")\n",
    "        else:\n",
    "             print(s1[i],s2[i])\n",
    "        \n",
    "        \n",
    "        \n",
    "else:\n",
    "    for i in range(len(s2)):\n",
    "        if s1[i]==\" \":\n",
    "            print(\"*\",s2[i])\n",
    "        else:\n",
    "             print(s1[i],s2[i])\n",
    "                \n",
    "                \n"
   ]
  },
  {
   "cell_type": "code",
   "execution_count": 21,
   "metadata": {},
   "outputs": [
    {
     "name": "stdout",
     "output_type": "stream",
     "text": [
      "input a number please 5\n",
      "this is your number 34863\n"
     ]
    }
   ],
   "source": [
    "B=0\n",
    "A=1\n",
    "m=int(input(\"input a number please \"))\n",
    "for k in range (1,m+1) :\n",
    "    for i in range (1,k+1) :\n",
    "        A=i*A\n",
    "    B=B+A\n",
    "print(\"this is your number\",B)"
   ]
  },
  {
   "cell_type": "code",
   "execution_count": 22,
   "metadata": {},
   "outputs": [
    {
     "ename": "SyntaxError",
     "evalue": "invalid syntax (<ipython-input-22-edffc9f77013>, line 1)",
     "output_type": "error",
     "traceback": [
      "\u001b[1;36m  File \u001b[1;32m\"<ipython-input-22-edffc9f77013>\"\u001b[1;36m, line \u001b[1;32m1\u001b[0m\n\u001b[1;33m    print type(type(int))\u001b[0m\n\u001b[1;37m             ^\u001b[0m\n\u001b[1;31mSyntaxError\u001b[0m\u001b[1;31m:\u001b[0m invalid syntax\n"
     ]
    }
   ],
   "source": [
    "print type(type(int))"
   ]
  },
  {
   "cell_type": "code",
   "execution_count": 35,
   "metadata": {
    "scrolled": true
   },
   "outputs": [
    {
     "name": "stdout",
     "output_type": "stream",
     "text": [
      "enter a number145\n"
     ]
    },
    {
     "ename": "IndexError",
     "evalue": "list assignment index out of range",
     "output_type": "error",
     "traceback": [
      "\u001b[1;31m---------------------------------------------------------------------------\u001b[0m",
      "\u001b[1;31mIndexError\u001b[0m                                Traceback (most recent call last)",
      "\u001b[1;32m<ipython-input-35-75a52c890360>\u001b[0m in \u001b[0;36m<module>\u001b[1;34m\u001b[0m\n\u001b[0;32m      6\u001b[0m     \u001b[1;32mfor\u001b[0m \u001b[0mk\u001b[0m \u001b[1;32min\u001b[0m \u001b[0mrange\u001b[0m\u001b[1;33m(\u001b[0m\u001b[0mr\u001b[0m\u001b[1;33m)\u001b[0m\u001b[1;33m:\u001b[0m\u001b[1;33m\u001b[0m\u001b[1;33m\u001b[0m\u001b[0m\n\u001b[0;32m      7\u001b[0m          \u001b[1;31m#print(\"*\",end=\"\")\u001b[0m\u001b[1;33m\u001b[0m\u001b[1;33m\u001b[0m\u001b[1;33m\u001b[0m\u001b[0m\n\u001b[1;32m----> 8\u001b[1;33m         \u001b[0mli\u001b[0m\u001b[1;33m[\u001b[0m\u001b[0mk\u001b[0m\u001b[1;33m]\u001b[0m\u001b[1;33m=\u001b[0m\u001b[1;34m\"*\"\u001b[0m\u001b[1;33m\u001b[0m\u001b[1;33m\u001b[0m\u001b[0m\n\u001b[0m\u001b[0;32m      9\u001b[0m     \u001b[1;31m#print(\"\\n\")\u001b[0m\u001b[1;33m\u001b[0m\u001b[1;33m\u001b[0m\u001b[1;33m\u001b[0m\u001b[0m\n\u001b[0;32m     10\u001b[0m     \u001b[0mn\u001b[0m\u001b[1;33m=\u001b[0m\u001b[0mn\u001b[0m\u001b[1;33m//\u001b[0m\u001b[1;36m10\u001b[0m\u001b[1;33m\u001b[0m\u001b[1;33m\u001b[0m\u001b[0m\n",
      "\u001b[1;31mIndexError\u001b[0m: list assignment index out of range"
     ]
    }
   ],
   "source": [
    "n=int(input(\"enter a number\"))\n",
    "r=0\n",
    "li=[] *n\n",
    "while n!=0:\n",
    "    r=n%10\n",
    "    for k in range(r):\n",
    "         #print(\"*\",end=\"\")\n",
    "        li[k]=\"*\"  \n",
    "    #print(\"\\n\")\n",
    "    n=n//10\n",
    "        \n",
    "print(li)"
   ]
  },
  {
   "cell_type": "markdown",
   "metadata": {},
   "source": [
    "##7"
   ]
  },
  {
   "cell_type": "code",
   "execution_count": 41,
   "metadata": {},
   "outputs": [
    {
     "name": "stdout",
     "output_type": "stream",
     "text": [
      "*\n",
      "\n",
      "\n",
      "\n",
      "*****\n",
      "\n",
      "******\n",
      "\n",
      "*********\n",
      "\n"
     ]
    }
   ],
   "source": [
    "def numberlist(n):\n",
    "        li=[]\n",
    "        while (n!=0):\n",
    "            r=n%10\n",
    "            li.append(r)\n",
    "            n=n//10\n",
    "        li.reverse()\n",
    "        for i in range(len(li)):\n",
    "            for k in range(li[i]):\n",
    "                print(\"*\",end=\"\")\n",
    "            print(\"\\n\")\n",
    "        return \n",
    "\n",
    "numberlist(10569)\n",
    "            "
   ]
  },
  {
   "cell_type": "markdown",
   "metadata": {},
   "source": []
  },
  {
   "cell_type": "code",
   "execution_count": 3,
   "metadata": {},
   "outputs": [
    {
     "name": "stdout",
     "output_type": "stream",
     "text": [
      "enter string 1abc\n",
      "enter string 2xyz\n"
     ]
    },
    {
     "ename": "SyntaxError",
     "evalue": "'return' outside function (<ipython-input-3-fc5d22185392>, line 18)",
     "output_type": "error",
     "traceback": [
      "\u001b[1;36m  File \u001b[1;32m\"<ipython-input-3-fc5d22185392>\"\u001b[1;36m, line \u001b[1;32m18\u001b[0m\n\u001b[1;33m    return\u001b[0m\n\u001b[1;37m    ^\u001b[0m\n\u001b[1;31mSyntaxError\u001b[0m\u001b[1;31m:\u001b[0m 'return' outside function\n"
     ]
    }
   ],
   "source": [
    "s1=input(\"enter string 1\")\n",
    "s2=input(\"enter string 2\")\n",
    "l1=len(s1)\n",
    "l2=len(s2)\n",
    "li=[10] \n",
    "if l1>l2:\n",
    "    for i in range(0,l1):\n",
    "        li[i]=s1[i]\n",
    "        li[i+1]=s2[i]\n",
    "        print(li)\n",
    "            #print(s1[i],s2[i],end=\"\")\n",
    "else:\n",
    "    for j in range(0,l2):\n",
    "            #print(s1[j],s2[j])\n",
    "        li[i]=s1[i]\n",
    "        li[i+1]=s2[i]\n",
    "        print(li)\n",
    "    return\n",
    "\n",
    "\n",
    "   "
   ]
  },
  {
   "cell_type": "code",
   "execution_count": 2,
   "metadata": {},
   "outputs": [
    {
     "name": "stdout",
     "output_type": "stream",
     "text": [
      "enter n value5\n",
      "1 !+ 2 !+ 3 !+ 4 !+ "
     ]
    }
   ],
   "source": [
    "n=int(input(\"enter n value\"))\n",
    "for x in range(1,n):\n",
    "    print(x,\"!+\",end=\" \"\n",
    "         )"
   ]
  },
  {
   "cell_type": "code",
   "execution_count": null,
   "metadata": {},
   "outputs": [],
   "source": []
  }
 ],
 "metadata": {
  "kernelspec": {
   "display_name": "Python 3",
   "language": "python",
   "name": "python3"
  },
  "language_info": {
   "codemirror_mode": {
    "name": "ipython",
    "version": 3
   },
   "file_extension": ".py",
   "mimetype": "text/x-python",
   "name": "python",
   "nbconvert_exporter": "python",
   "pygments_lexer": "ipython3",
   "version": "3.7.3"
  }
 },
 "nbformat": 4,
 "nbformat_minor": 2
}
